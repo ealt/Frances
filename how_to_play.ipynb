{
 "metadata": {
  "language_info": {
   "codemirror_mode": {
    "name": "ipython",
    "version": 3
   },
   "file_extension": ".py",
   "mimetype": "text/x-python",
   "name": "python",
   "nbconvert_exporter": "python",
   "pygments_lexer": "ipython3",
   "version": "3.8.5-final"
  },
  "orig_nbformat": 2,
  "kernelspec": {
   "name": "python38564bitfrancesconda989df9f76dde41d2aae397d5fa084177",
   "display_name": "Python 3.8.5 64-bit ('frances': conda)"
  }
 },
 "nbformat": 4,
 "nbformat_minor": 2,
 "cells": [
  {
   "source": [
    "## [How to Play](murdermysterypuzzles.com/how-to-play/)"
   ],
   "cell_type": "markdown",
   "metadata": {}
  },
  {
   "cell_type": "code",
   "execution_count": 1,
   "metadata": {},
   "outputs": [],
   "source": [
    "import puzzle_encoder"
   ]
  },
  {
   "cell_type": "code",
   "execution_count": 2,
   "metadata": {},
   "outputs": [],
   "source": [
    "encoder = puzzle_encoder.PuzzleEncoder('How to Play')"
   ]
  },
  {
   "cell_type": "code",
   "execution_count": 3,
   "metadata": {},
   "outputs": [],
   "source": [
    "room_names = [\n",
    "    'Living Room',\n",
    "    'Main Bedroom',\n",
    "]\n",
    "encoder.set_rooms(room_names)"
   ]
  },
  {
   "cell_type": "code",
   "execution_count": 4,
   "metadata": {},
   "outputs": [],
   "source": [
    "floor_plan = [\n",
    "    0,0,0,0,\n",
    "    0,0,0,0,\n",
    "    1,1,1,1,\n",
    "    1,1,1,1,\n",
    "]\n",
    "encoder.set_floor_plan(floor_plan)"
   ]
  },
  {
   "cell_type": "code",
   "execution_count": 5,
   "metadata": {},
   "outputs": [],
   "source": [
    "encoder.add_window(row=2, left=3)"
   ]
  },
  {
   "cell_type": "code",
   "execution_count": 6,
   "metadata": {},
   "outputs": [],
   "source": [
    "encoder.add_furniture('table', [(0, 2)])\n",
    "encoder.add_furniture('tv', [(1, 0)])\n",
    "encoder.add_furniture('bed', [(2, 1), (3, 1)])\n",
    "encoder.add_furniture('plant', [(3, 3)])"
   ]
  },
  {
   "cell_type": "code",
   "execution_count": 7,
   "metadata": {},
   "outputs": [],
   "source": [
    "suspect_names = [\n",
    "    'Ace',\n",
    "    'Bonnie',\n",
    "    'Claire',\n",
    "]\n",
    "encoder.set_people(suspect_names=suspect_names, victim_name='Damien')"
   ]
  },
  {
   "cell_type": "code",
   "execution_count": 8,
   "metadata": {},
   "outputs": [],
   "source": [
    "encoder.add_clue('Ace was beside a table.')\n",
    "encoder.add_clue('Bonnie was on a bed.')\n",
    "encoder.add_clue('Claire was beside a window.')"
   ]
  },
  {
   "cell_type": "code",
   "execution_count": 9,
   "metadata": {},
   "outputs": [
    {
     "output_type": "execute_result",
     "data": {
      "text/plain": [
       "name: \"How to Play\"\n",
       "crime_scene {\n",
       "  rooms {\n",
       "    name: \"Living Room\"\n",
       "  }\n",
       "  rooms {\n",
       "    id: 1\n",
       "    name: \"Main Bedroom\"\n",
       "  }\n",
       "  floor_plan: 0\n",
       "  floor_plan: 0\n",
       "  floor_plan: 0\n",
       "  floor_plan: 0\n",
       "  floor_plan: 0\n",
       "  floor_plan: 0\n",
       "  floor_plan: 0\n",
       "  floor_plan: 0\n",
       "  floor_plan: 1\n",
       "  floor_plan: 1\n",
       "  floor_plan: 1\n",
       "  floor_plan: 1\n",
       "  floor_plan: 1\n",
       "  floor_plan: 1\n",
       "  floor_plan: 1\n",
       "  floor_plan: 1\n",
       "  windows {\n",
       "    vertical_border {\n",
       "      row: 2\n",
       "      left: 3\n",
       "    }\n",
       "  }\n",
       "  furniture {\n",
       "    type: TABLE\n",
       "    coordinates {\n",
       "      column: 2\n",
       "    }\n",
       "  }\n",
       "  furniture {\n",
       "    type: TV\n",
       "    coordinates {\n",
       "      row: 1\n",
       "    }\n",
       "  }\n",
       "  furniture {\n",
       "    type: BED\n",
       "    occupiable: true\n",
       "    coordinates {\n",
       "      row: 2\n",
       "      column: 1\n",
       "    }\n",
       "    coordinates {\n",
       "      row: 3\n",
       "      column: 1\n",
       "    }\n",
       "  }\n",
       "  furniture {\n",
       "    type: PLANT\n",
       "    coordinates {\n",
       "      row: 3\n",
       "      column: 3\n",
       "    }\n",
       "  }\n",
       "}\n",
       "people {\n",
       "  name: \"Ace\"\n",
       "}\n",
       "people {\n",
       "  id: 1\n",
       "  name: \"Bonnie\"\n",
       "}\n",
       "people {\n",
       "  id: 2\n",
       "  name: \"Claire\"\n",
       "}\n",
       "people {\n",
       "  id: 3\n",
       "  name: \"Damien\"\n",
       "  type: VICTIM\n",
       "}\n",
       "clues {\n",
       "  person_clue {\n",
       "    beside: TABLE\n",
       "  }\n",
       "}\n",
       "clues {\n",
       "  person_clue {\n",
       "    person_id: 1\n",
       "    on: BED\n",
       "  }\n",
       "}\n",
       "clues {\n",
       "  person_clue {\n",
       "    person_id: 2\n",
       "    beside_window: true\n",
       "  }\n",
       "}"
      ]
     },
     "metadata": {},
     "execution_count": 9
    }
   ],
   "source": [
    "encoder.get_puzzle()"
   ]
  }
 ]
}