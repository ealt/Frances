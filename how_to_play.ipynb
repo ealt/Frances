{
 "metadata": {
  "language_info": {
   "codemirror_mode": {
    "name": "ipython",
    "version": 3
   },
   "file_extension": ".py",
   "mimetype": "text/x-python",
   "name": "python",
   "nbconvert_exporter": "python",
   "pygments_lexer": "ipython3",
   "version": "3.8.5-final"
  },
  "orig_nbformat": 2,
  "kernelspec": {
   "name": "python38564bitfrancesconda989df9f76dde41d2aae397d5fa084177",
   "display_name": "Python 3.8.5 64-bit ('frances': conda)"
  }
 },
 "nbformat": 4,
 "nbformat_minor": 2,
 "cells": [
  {
   "source": [
    "## [How to Play](murdermysterypuzzles.com/how-to-play/)"
   ],
   "cell_type": "markdown",
   "metadata": {}
  },
  {
   "cell_type": "code",
   "execution_count": 1,
   "metadata": {},
   "outputs": [],
   "source": [
    "import puzzle_encoder"
   ]
  },
  {
   "cell_type": "code",
   "execution_count": 2,
   "metadata": {},
   "outputs": [],
   "source": [
    "encoder = puzzle_encoder.PuzzleEncoder('How to Play')"
   ]
  },
  {
   "cell_type": "code",
   "execution_count": 3,
   "metadata": {},
   "outputs": [],
   "source": [
    "room_names = [\n",
    "    'Living Room',\n",
    "    'Main Bedroom',\n",
    "]\n",
    "encoder.set_rooms(room_names)"
   ]
  },
  {
   "cell_type": "code",
   "execution_count": 4,
   "metadata": {},
   "outputs": [],
   "source": [
    "floor_plan = [\n",
    "    0,0,0,0,\n",
    "    0,0,0,0,\n",
    "    1,1,1,1,\n",
    "    1,1,1,1,\n",
    "]\n",
    "encoder.set_floor_plan(floor_plan)"
   ]
  },
  {
   "cell_type": "code",
   "execution_count": 5,
   "metadata": {},
   "outputs": [
    {
     "output_type": "execute_result",
     "data": {
      "text/plain": [
       "name: \"How to Play\"\n",
       "crime_scene {\n",
       "  rooms {\n",
       "    name: \"Living Room\"\n",
       "  }\n",
       "  rooms {\n",
       "    id: 1\n",
       "    name: \"Main Bedroom\"\n",
       "  }\n",
       "  floor_plan: 0\n",
       "  floor_plan: 0\n",
       "  floor_plan: 0\n",
       "  floor_plan: 0\n",
       "  floor_plan: 0\n",
       "  floor_plan: 0\n",
       "  floor_plan: 0\n",
       "  floor_plan: 0\n",
       "  floor_plan: 1\n",
       "  floor_plan: 1\n",
       "  floor_plan: 1\n",
       "  floor_plan: 1\n",
       "  floor_plan: 1\n",
       "  floor_plan: 1\n",
       "  floor_plan: 1\n",
       "  floor_plan: 1\n",
       "}"
      ]
     },
     "metadata": {},
     "execution_count": 5
    }
   ],
   "source": [
    "encoder.get_puzzle()"
   ]
  }
 ]
}