{
 "metadata": {
  "language_info": {
   "codemirror_mode": {
    "name": "ipython",
    "version": 3
   },
   "file_extension": ".py",
   "mimetype": "text/x-python",
   "name": "python",
   "nbconvert_exporter": "python",
   "pygments_lexer": "ipython3",
   "version": "3.9.5"
  },
  "orig_nbformat": 2,
  "kernelspec": {
   "name": "python3",
   "display_name": "Python 3.9.5 64-bit ('frances': conda)"
  },
  "interpreter": {
   "hash": "2065fa2bb810475cf13dbc8616d3e601fba69ec77c36bc6e78568365a297dd52"
  }
 },
 "nbformat": 4,
 "nbformat_minor": 2,
 "cells": [
  {
   "cell_type": "markdown",
   "source": [
    "## [How to Play](murdermysterypuzzles.com/how-to-play/)"
   ],
   "metadata": {}
  },
  {
   "cell_type": "code",
   "execution_count": 1,
   "source": [
    "import logging\n",
    "\n",
    "logging.basicConfig(filename='how_to_play.log', filemode='w', level=logging.DEBUG)"
   ],
   "outputs": [],
   "metadata": {}
  },
  {
   "cell_type": "code",
   "execution_count": 2,
   "source": [
    "from puzzle_encoder import PuzzleEncoder\n",
    "from puzzle_solver import PuzzleSolver\n",
    "from puzzle_visualizer import PuzzleVisualizer"
   ],
   "outputs": [],
   "metadata": {}
  },
  {
   "cell_type": "code",
   "execution_count": 3,
   "source": [
    "encoder = PuzzleEncoder('How to Play')"
   ],
   "outputs": [],
   "metadata": {}
  },
  {
   "cell_type": "code",
   "execution_count": 4,
   "source": [
    "room_names = [\n",
    "    'Living Room',\n",
    "    'Main Bedroom',\n",
    "]\n",
    "encoder.set_rooms(room_names)"
   ],
   "outputs": [],
   "metadata": {}
  },
  {
   "cell_type": "code",
   "execution_count": 5,
   "source": [
    "floor_plan = [\n",
    "    [1,1,1,1],\n",
    "    [1,1,1,1],\n",
    "    [2,2,2,2],\n",
    "    [2,2,2,2],\n",
    "]\n",
    "encoder.set_floor_plan(floor_plan)"
   ],
   "outputs": [],
   "metadata": {}
  },
  {
   "cell_type": "code",
   "execution_count": 6,
   "source": [
    "encoder.add_vertical_window(2, 4)"
   ],
   "outputs": [],
   "metadata": {}
  },
  {
   "cell_type": "code",
   "execution_count": 7,
   "source": [
    "encoder.add_feature('table', [(0, 2)])\n",
    "encoder.add_feature('tv', [(1, 0)])\n",
    "encoder.add_feature('bed', [(2, 1), (3, 1)])\n",
    "encoder.add_feature('plant', [(3, 3)])"
   ],
   "outputs": [],
   "metadata": {}
  },
  {
   "cell_type": "code",
   "execution_count": 8,
   "source": [
    "suspects = [\n",
    "    ('Ace', 'male'),\n",
    "    ('Bonnie', 'female'),\n",
    "    ('Claire', 'female'),\n",
    "]\n",
    "encoder.set_people(suspects=suspects, victim=('Damien', 'male'))"
   ],
   "outputs": [],
   "metadata": {}
  },
  {
   "cell_type": "code",
   "execution_count": 9,
   "source": [
    "encoder.add_clue('Ace was beside a table.')\n",
    "encoder.add_clue('Bonnie was on a bed.')\n",
    "encoder.add_clue('Claire was beside a window.')"
   ],
   "outputs": [],
   "metadata": {}
  },
  {
   "cell_type": "code",
   "execution_count": 10,
   "source": [
    "puzzle = encoder.puzzle"
   ],
   "outputs": [],
   "metadata": {}
  },
  {
   "cell_type": "code",
   "execution_count": 11,
   "source": [
    "solver = PuzzleSolver(puzzle, debug=True)"
   ],
   "outputs": [],
   "metadata": {}
  },
  {
   "cell_type": "code",
   "execution_count": 12,
   "source": [
    "status, solution_count = solver.solve()\n",
    "print(f'Solution status: {status}\\nSolution count: {solution_count}')"
   ],
   "outputs": [
    {
     "output_type": "stream",
     "name": "stdout",
     "text": [
      "Solution status: OPTIMAL\n",
      "Solution count: 1\n"
     ]
    }
   ],
   "metadata": {}
  },
  {
   "cell_type": "code",
   "execution_count": 13,
   "source": [
    "visualizer = PuzzleVisualizer(puzzle)\n",
    "print(visualizer.visualization)"
   ],
   "outputs": [
    {
     "output_type": "stream",
     "name": "stdout",
     "text": [
      "    0   1   2   3 \n",
      "  ┌───────────────┐\n",
      "0 │ D      \u001b[43m   \u001b[0m    │\n",
      "  │               │\n",
      "1 │\u001b[47m   \u001b[0m      A     │\n",
      "  ├───────────────┤\n",
      "2 │    \u001b[45m   \u001b[0m      C ║\n",
      "  │    \u001b[45m   \u001b[0m        │\n",
      "3 │    \u001b[45m B \u001b[0m     \u001b[42m   \u001b[0m│\n",
      "  └───────────────┘\n",
      "   \u001b[41mChair\u001b[0m \u001b[45mBed\u001b[0m \u001b[44mCarpet\u001b[0m \u001b[42mPlant\u001b[0m \u001b[47mTv\u001b[0m \u001b[43mTable\u001b[0m\n"
     ]
    }
   ],
   "metadata": {}
  },
  {
   "cell_type": "code",
   "execution_count": 14,
   "source": [
    "print(solver.verdict())"
   ],
   "outputs": [
    {
     "output_type": "stream",
     "name": "stdout",
     "text": [
      "Ace murdered Damien in the Living Room!\n"
     ]
    }
   ],
   "metadata": {}
  },
  {
   "cell_type": "code",
   "execution_count": 15,
   "source": [
    "if status == 'OPTIMAL' and solution_count == 1:\n",
    "    with open('how_to_play.bin', 'wb') as f:\n",
    "        f.write(puzzle.SerializeToString())"
   ],
   "outputs": [],
   "metadata": {}
  }
 ]
}