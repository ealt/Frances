{
 "metadata": {
  "language_info": {
   "codemirror_mode": {
    "name": "ipython",
    "version": 3
   },
   "file_extension": ".py",
   "mimetype": "text/x-python",
   "name": "python",
   "nbconvert_exporter": "python",
   "pygments_lexer": "ipython3",
   "version": "3.8.5-final"
  },
  "orig_nbformat": 2,
  "kernelspec": {
   "name": "python38564bitfrancesconda989df9f76dde41d2aae397d5fa084177",
   "display_name": "Python 3.8.5 64-bit ('frances': conda)"
  }
 },
 "nbformat": 4,
 "nbformat_minor": 2,
 "cells": [
  {
   "source": [
    "## [How to Play](murdermysterypuzzles.com/how-to-play/)"
   ],
   "cell_type": "markdown",
   "metadata": {}
  },
  {
   "cell_type": "code",
   "execution_count": 1,
   "metadata": {},
   "outputs": [],
   "source": [
    "import puzzle_encoder\n",
    "import puzzle_solver"
   ]
  },
  {
   "cell_type": "code",
   "execution_count": 2,
   "metadata": {},
   "outputs": [],
   "source": [
    "encoder = puzzle_encoder.PuzzleEncoder('How to Play')"
   ]
  },
  {
   "cell_type": "code",
   "execution_count": 3,
   "metadata": {},
   "outputs": [],
   "source": [
    "room_names = [\n",
    "    'Living Room',\n",
    "    'Main Bedroom',\n",
    "]\n",
    "encoder.set_rooms(room_names)"
   ]
  },
  {
   "cell_type": "code",
   "execution_count": 4,
   "metadata": {},
   "outputs": [],
   "source": [
    "floor_plan = [\n",
    "    0,0,0,0,\n",
    "    0,0,0,0,\n",
    "    1,1,1,1,\n",
    "    1,1,1,1,\n",
    "]\n",
    "encoder.set_floor_plan(floor_plan)"
   ]
  },
  {
   "cell_type": "code",
   "execution_count": 5,
   "metadata": {},
   "outputs": [],
   "source": [
    "encoder.add_window(row=2, left=3)"
   ]
  },
  {
   "cell_type": "code",
   "execution_count": 6,
   "metadata": {},
   "outputs": [],
   "source": [
    "encoder.add_furniture('table', [(0, 2)])\n",
    "encoder.add_furniture('tv', [(1, 0)])\n",
    "encoder.add_furniture('bed', [(2, 1), (3, 1)])\n",
    "encoder.add_furniture('plant', [(3, 3)])"
   ]
  },
  {
   "cell_type": "code",
   "execution_count": 7,
   "metadata": {},
   "outputs": [],
   "source": [
    "suspect_names = [\n",
    "    'Ace',\n",
    "    'Bonnie',\n",
    "    'Claire',\n",
    "]\n",
    "encoder.set_people(suspect_names=suspect_names, victim_name='Damien')"
   ]
  },
  {
   "cell_type": "code",
   "execution_count": 8,
   "metadata": {},
   "outputs": [],
   "source": [
    "encoder.add_clue('Ace was beside a table.')\n",
    "encoder.add_clue('Bonnie was on a bed.')\n",
    "encoder.add_clue('Claire was beside a window.')"
   ]
  },
  {
   "cell_type": "code",
   "execution_count": 9,
   "metadata": {},
   "outputs": [],
   "source": [
    "puzzle = encoder.get_puzzle()"
   ]
  },
  {
   "cell_type": "code",
   "execution_count": 10,
   "metadata": {},
   "outputs": [],
   "source": [
    "solver = puzzle_solver.PuzzleSolver(puzzle)"
   ]
  }
 ]
}