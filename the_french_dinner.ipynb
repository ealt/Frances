{
 "metadata": {
  "language_info": {
   "codemirror_mode": {
    "name": "ipython",
    "version": 3
   },
   "file_extension": ".py",
   "mimetype": "text/x-python",
   "name": "python",
   "nbconvert_exporter": "python",
   "pygments_lexer": "ipython3",
   "version": "3.9.5"
  },
  "orig_nbformat": 2,
  "kernelspec": {
   "name": "python3",
   "display_name": "Python 3.9.5 64-bit ('frances': conda)"
  },
  "interpreter": {
   "hash": "2065fa2bb810475cf13dbc8616d3e601fba69ec77c36bc6e78568365a297dd52"
  }
 },
 "nbformat": 4,
 "nbformat_minor": 2,
 "cells": [
  {
   "cell_type": "markdown",
   "source": [
    "# [The French Dinner](https://murdermysterypuzzles.com/the-french-dinner/)"
   ],
   "metadata": {}
  },
  {
   "cell_type": "code",
   "execution_count": 1,
   "source": [
    "import logging\n",
    "\n",
    "logging.basicConfig(filename='the_french_dinner.log', level=logging.DEBUG)"
   ],
   "outputs": [],
   "metadata": {}
  },
  {
   "cell_type": "code",
   "execution_count": 2,
   "source": [
    "from puzzle_encoder import PuzzleEncoder\n",
    "from puzzle_solver import PuzzleSolver\n",
    "from puzzle_visualizer import PuzzleVisualizer"
   ],
   "outputs": [],
   "metadata": {}
  },
  {
   "cell_type": "code",
   "execution_count": 3,
   "source": [
    "encoder = PuzzleEncoder('The French Dinner')"
   ],
   "outputs": [],
   "metadata": {}
  },
  {
   "cell_type": "code",
   "execution_count": 4,
   "source": [
    "room_names = [\n",
    "    'Dining Room',\n",
    "    'Kitchen',\n",
    "    'Master Bedroom', \n",
    "    'Guest Bedroom', \n",
    "    'Living Room', \n",
    "    'Restroom',\n",
    "]\n",
    "encoder.set_rooms(room_names)"
   ],
   "outputs": [],
   "metadata": {}
  },
  {
   "cell_type": "code",
   "execution_count": 5,
   "source": [
    "floor_plan = [\n",
    "    [1,1,1,1,1,1,1,2,2],\n",
    "    [1,1,1,1,1,1,1,2,2],\n",
    "    [3,3,3,3,3,1,1,2,2],\n",
    "    [3,3,3,3,3,1,1,2,2],\n",
    "    [3,3,3,3,3,4,4,2,2],\n",
    "    [5,5,6,6,6,4,4,2,2],\n",
    "    [5,5,6,6,6,4,4,2,2],\n",
    "    [5,5,5,5,5,4,4,4,4],\n",
    "    [5,5,5,5,5,4,4,4,4],\n",
    "]\n",
    "encoder.set_floor_plan(floor_plan)"
   ],
   "outputs": [],
   "metadata": {}
  },
  {
   "cell_type": "code",
   "execution_count": 6,
   "source": [
    "encoder.add_vertical_window(0, 0)\n",
    "encoder.add_vertical_window(1, 0)\n",
    "encoder.add_vertical_window(5, 9)\n",
    "encoder.add_vertical_window(6, 9)"
   ],
   "outputs": [],
   "metadata": {}
  },
  {
   "cell_type": "code",
   "execution_count": 7,
   "source": [
    "encoder.add_feature('chair', [(1, 7)])\n",
    "encoder.add_feature('chair', [(2, 6)])\n",
    "encoder.add_feature('chair', [(3, 0)])\n",
    "encoder.add_feature('chair', [(4, 5)])\n",
    "encoder.add_feature('chair', [(5, 4)])\n",
    "encoder.add_feature('chair', [(7, 1)])\n",
    "encoder.add_feature('bed', [(3, 1), (4, 1)])\n",
    "encoder.add_feature('bed', [(6, 5), (7, 5)])\n",
    "encoder.add_feature('carpet', [(3, 4)])\n",
    "encoder.add_feature('carpet', [(4, 7), (4, 8)])\n",
    "encoder.add_feature('carpet', [(5, 2), (5, 3)])\n",
    "encoder.add_feature('carpet', [(6, 0), (7, 0)])\n",
    "encoder.add_feature('plant', [(3, 5)])\n",
    "encoder.add_feature('plant', [(6, 2)])\n",
    "encoder.add_feature('plant', [(7, 8)])\n",
    "encoder.add_feature('tv', [(8, 4)])\n",
    "encoder.add_feature('table', [(0, 2), (0, 3), (0, 4)])\n",
    "encoder.add_feature('table', [(2, 7), (2, 8)])\n",
    "encoder.add_feature('table', [(5, 5)])\n",
    "encoder.add_feature('table', [(8, 0)])"
   ],
   "outputs": [],
   "metadata": {}
  },
  {
   "cell_type": "code",
   "execution_count": 8,
   "source": [
    "suspects = [\n",
    "    ('Andre', 'male'),\n",
    "    ('Bernard', 'male'),\n",
    "    ('Charles', 'male'),\n",
    "    ('Daniel', 'male'),\n",
    "    ('Etienne', 'male'),\n",
    "    ('Francine', 'female'),\n",
    "    ('Gabrielle', 'female'),\n",
    "    ('Henriette', 'female'),\n",
    "]\n",
    "encoder.set_people(suspects=suspects, victim=('Vincent', 'male'))"
   ],
   "outputs": [],
   "metadata": {}
  },
  {
   "cell_type": "code",
   "execution_count": 9,
   "source": [
    "encoder.add_clue('There was no empty room.')\n",
    "encoder.add_clue('Andre was in the Dining Room with two suspect men.')\n",
    "encoder.add_clue('Bernard was the only person in the house that was on a bed.')\n",
    "encoder.add_clue('Charles was on a carpet.')\n",
    "encoder.add_clue('Daniel was beside a window.')\n",
    "encoder.add_clue('Etienne was in the corner of the room.')\n",
    "encoder.add_clue('Francine was the only person in the house sitting on a chair.')\n",
    "encoder.add_clue('Gabrielle was alone in the Guest Bedroom.')  # Guest Room -> Guest Bedroom\n",
    "encoder.add_clue('Henriette was in the same room as a TV.')\n",
    "encoder.add_clue('Henriette was in the same row as a TV.')"
   ],
   "outputs": [],
   "metadata": {}
  },
  {
   "cell_type": "code",
   "execution_count": 10,
   "source": [
    "puzzle = encoder.puzzle"
   ],
   "outputs": [],
   "metadata": {}
  },
  {
   "cell_type": "code",
   "execution_count": 11,
   "source": [
    "solver = PuzzleSolver(puzzle, debug=True)"
   ],
   "outputs": [],
   "metadata": {}
  },
  {
   "cell_type": "code",
   "execution_count": 12,
   "source": [
    "status, solution_count = solver.solve()\n",
    "print(f'Solution status: {status}\\nSolution count: {solution_count}')"
   ],
   "outputs": [
    {
     "output_type": "stream",
     "name": "stdout",
     "text": [
      "Solution status: OPTIMAL\n",
      "Solution count: 1\n"
     ]
    }
   ],
   "metadata": {
    "tags": []
   }
  },
  {
   "cell_type": "code",
   "execution_count": 13,
   "source": [
    "visualizer = PuzzleVisualizer(puzzle)\n",
    "print(visualizer.visualization)"
   ],
   "outputs": [
    {
     "output_type": "stream",
     "name": "stdout",
     "text": [
      "    0   1   2   3   4   5   6   7   8 \n",
      "  ┌───────────────────────────┬───────┐\n",
      "0 ║        \u001b[43m   \u001b[0m\u001b[43m \u001b[0m\u001b[43m   \u001b[0m\u001b[43m \u001b[0m\u001b[43m   \u001b[0m      E │       │\n",
      "  │                           │       │\n",
      "1 ║ D                         │\u001b[41m   \u001b[0m    │\n",
      "  ├───────────────────┐       │       │\n",
      "2 │                   │ A  \u001b[41m   \u001b[0m│\u001b[43m   \u001b[0m\u001b[43m \u001b[0m\u001b[43m   \u001b[0m│\n",
      "  │                   │       │       │\n",
      "3 │\u001b[41m   \u001b[0m \u001b[45m B \u001b[0m         \u001b[44m   \u001b[0m│\u001b[42m   \u001b[0m    │       │\n",
      "  │    \u001b[45m   \u001b[0m            ├───────┤       │\n",
      "4 │    \u001b[45m   \u001b[0m            │\u001b[41m   \u001b[0m    │\u001b[44m   \u001b[0m\u001b[44m \u001b[0m\u001b[44m C \u001b[0m│\n",
      "  ├───────┬───────────┤       │       │\n",
      "5 │       │\u001b[44m   \u001b[0m\u001b[44m \u001b[0m\u001b[44m   \u001b[0m \u001b[41m F \u001b[0m│\u001b[43m   \u001b[0m    │       ║\n",
      "  │       │           │       │       │\n",
      "6 │\u001b[44m   \u001b[0m    │\u001b[42m   \u001b[0m  V     │\u001b[45m   \u001b[0m    │       ║\n",
      "  │\u001b[44m   \u001b[0m    └───────────┤\u001b[45m   \u001b[0m    └───────┤\n",
      "7 │\u001b[44m   \u001b[0m \u001b[41m   \u001b[0m            │\u001b[45m   \u001b[0m      G  \u001b[42m   \u001b[0m│\n",
      "  │                   │               │\n",
      "8 │\u001b[43m   \u001b[0m      H      \u001b[47m   \u001b[0m│               │\n",
      "  └───────────────────┴───────────────┘\n",
      "   \u001b[41mChair\u001b[0m \u001b[45mBed\u001b[0m \u001b[44mCarpet\u001b[0m \u001b[42mPlant\u001b[0m \u001b[47mTv\u001b[0m \u001b[43mTable\u001b[0m\n"
     ]
    }
   ],
   "metadata": {}
  },
  {
   "cell_type": "code",
   "execution_count": 14,
   "source": [
    "print(solver.verdict())"
   ],
   "outputs": [
    {
     "output_type": "stream",
     "name": "stdout",
     "text": [
      "Francine murdered Vincent in the Restroom!\n"
     ]
    }
   ],
   "metadata": {}
  },
  {
   "cell_type": "code",
   "execution_count": 15,
   "source": [
    "with open('the_french_dinner.bin', 'wb') as f:\n",
    "    f.write(puzzle.SerializeToString())"
   ],
   "outputs": [],
   "metadata": {}
  }
 ]
}