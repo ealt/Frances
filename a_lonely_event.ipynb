{
 "metadata": {
  "language_info": {
   "codemirror_mode": {
    "name": "ipython",
    "version": 3
   },
   "file_extension": ".py",
   "mimetype": "text/x-python",
   "name": "python",
   "nbconvert_exporter": "python",
   "pygments_lexer": "ipython3",
   "version": "3.9.5"
  },
  "orig_nbformat": 2,
  "kernelspec": {
   "name": "python395jvsc74a57bd02065fa2bb810475cf13dbc8616d3e601fba69ec77c36bc6e78568365a297dd52",
   "display_name": "Python 3.9.5 64-bit ('frances': conda)"
  }
 },
 "nbformat": 4,
 "nbformat_minor": 2,
 "cells": [
  {
   "source": [
    "# [A Lonely Event](https://murdermysterypuzzles.com/a-lonely-event/)"
   ],
   "cell_type": "markdown",
   "metadata": {}
  },
  {
   "cell_type": "code",
   "execution_count": 1,
   "metadata": {},
   "outputs": [],
   "source": [
    "from puzzle_encoder import PuzzleEncoder\n",
    "from puzzle_solver import PuzzleSolver"
   ]
  },
  {
   "cell_type": "code",
   "execution_count": 2,
   "metadata": {},
   "outputs": [],
   "source": [
    "encoder = PuzzleEncoder('A Lonely Event')"
   ]
  },
  {
   "cell_type": "code",
   "execution_count": 3,
   "metadata": {},
   "outputs": [],
   "source": [
    "room_names = [\n",
    "    'Restroom',\n",
    "    'Living Room', \n",
    "    'Kitchen',\n",
    "    'Guest Bedroom', \n",
    "    'Master Bedroom', \n",
    "    'Dining Room',\n",
    "]\n",
    "encoder.set_rooms(room_names)"
   ]
  },
  {
   "cell_type": "code",
   "execution_count": 4,
   "metadata": {},
   "outputs": [],
   "source": [
    "floor_plan = [\n",
    "    0,0,0,1,1,1,1,1,1,\n",
    "    0,0,0,1,1,1,1,1,1,\n",
    "    0,0,0,1,1,1,1,1,1,\n",
    "    2,2,2,1,1,1,1,1,1,\n",
    "    2,2,2,3,3,3,4,4,4,\n",
    "    2,2,2,3,3,3,4,4,4,\n",
    "    5,5,5,3,3,3,4,4,4,\n",
    "    5,5,5,3,3,3,4,4,4,\n",
    "    5,5,5,3,3,3,4,4,4,\n",
    "]\n",
    "encoder.set_floor_plan(floor_plan)"
   ]
  },
  {
   "cell_type": "code",
   "execution_count": 5,
   "metadata": {},
   "outputs": [],
   "source": [
    "encoder.add_horizontal_window(0, 3)\n",
    "encoder.add_vertical_window(6, 9)"
   ]
  },
  {
   "cell_type": "code",
   "execution_count": 6,
   "metadata": {},
   "outputs": [],
   "source": [
    "encoder.add_furniture('chair', [(1, 2)])\n",
    "encoder.add_furniture('chair', [(3, 2)])\n",
    "encoder.add_furniture('chair', [(4, 5)])\n",
    "encoder.add_furniture('chair', [(5, 6)])\n",
    "encoder.add_furniture('bed', [(5, 4), (6, 4)])\n",
    "encoder.add_furniture('bed', [(5, 7), (6, 7)])\n",
    "encoder.add_furniture('plant', [(0, 0)])\n",
    "encoder.add_furniture('plant', [(0, 7)])\n",
    "encoder.add_furniture('plant', [(3, 0)])\n",
    "encoder.add_furniture('plant', [(3, 3)])\n",
    "encoder.add_furniture('plant', [(6, 0)])\n",
    "encoder.add_furniture('plant', [(7, 1)])\n",
    "encoder.add_furniture('plant', [(8, 8)])\n",
    "encoder.add_furniture('tv', [(2, 8)])\n",
    "encoder.add_furniture('table', [(2, 4), (2, 5), (2, 6)])\n",
    "encoder.add_furniture('table', [(4, 0), (4, 1), (4, 2)])\n",
    "encoder.add_furniture('table', [(6, 1)])"
   ]
  },
  {
   "cell_type": "code",
   "execution_count": 7,
   "metadata": {},
   "outputs": [],
   "source": [
    "suspect_names = [\n",
    "    'Ana',\n",
    "    'Bradley',\n",
    "    'Chevy',\n",
    "    'Dave',\n",
    "    'Evan',\n",
    "    'Frank',\n",
    "    'Gizelle',\n",
    "    'Heather',\n",
    "]\n",
    "encoder.set_people(suspect_names=suspect_names, victim_name='Vanessa')"
   ]
  },
  {
   "cell_type": "code",
   "execution_count": 8,
   "metadata": {},
   "outputs": [],
   "source": [
    "encoder.add_clue('Ana was alone in the restroom.')\n",
    "encoder.add_clue('Bradley was in the Living Room.')\n",
    "encoder.add_clue('Bradley was in the same row as a TV.')\n",
    "encoder.add_clue('Chevy was the only person in the house that was on a bed.')\n",
    "encoder.add_clue('Dave was alone in the Kitchen.')\n",
    "encoder.add_clue('Evan was the only person in the house sitting on a chair.')\n",
    "encoder.add_clue('Frank was beside a table.')\n",
    "encoder.add_clue('Frank was alone in the Dining Room.')\n",
    "encoder.add_clue('Gizelle was the only person in the house beside a window.')\n",
    "encoder.add_clue('Heather was in the corner of the room.')"
   ]
  },
  {
   "cell_type": "code",
   "execution_count": 9,
   "metadata": {},
   "outputs": [],
   "source": [
    "puzzle = encoder.puzzle"
   ]
  },
  {
   "cell_type": "code",
   "execution_count": 10,
   "metadata": {},
   "outputs": [],
   "source": [
    "solver = PuzzleSolver(puzzle)"
   ]
  },
  {
   "cell_type": "code",
   "execution_count": 11,
   "metadata": {},
   "outputs": [
    {
     "output_type": "stream",
     "name": "stdout",
     "text": [
      "Solution status: OPTIMAL\n"
     ]
    }
   ],
   "source": [
    "status = solver.solve()\n",
    "print('Solution status: {status}'.format(status=status))"
   ]
  },
  {
   "cell_type": "code",
   "execution_count": 12,
   "metadata": {},
   "outputs": [
    {
     "output_type": "stream",
     "name": "stdout",
     "text": [
      "Heather murdered Vanessa in the Master Bedroom!\n"
     ]
    }
   ],
   "source": [
    "print(solver.verdict())"
   ]
  },
  {
   "cell_type": "code",
   "execution_count": 13,
   "metadata": {},
   "outputs": [],
   "source": [
    "with open('a_lonely_event.bin', 'wb') as f:\n",
    "    f.write(puzzle.SerializeToString())"
   ]
  }
 ]
}