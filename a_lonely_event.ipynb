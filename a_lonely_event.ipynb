{
 "metadata": {
  "language_info": {
   "codemirror_mode": {
    "name": "ipython",
    "version": 3
   },
   "file_extension": ".py",
   "mimetype": "text/x-python",
   "name": "python",
   "nbconvert_exporter": "python",
   "pygments_lexer": "ipython3",
   "version": "3.9.5"
  },
  "orig_nbformat": 2,
  "kernelspec": {
   "name": "python3",
   "display_name": "Python 3.9.5 64-bit ('frances': conda)"
  },
  "interpreter": {
   "hash": "2065fa2bb810475cf13dbc8616d3e601fba69ec77c36bc6e78568365a297dd52"
  }
 },
 "nbformat": 4,
 "nbformat_minor": 2,
 "cells": [
  {
   "cell_type": "markdown",
   "source": [
    "# [A Lonely Event](https://murdermysterypuzzles.com/a-lonely-event/)"
   ],
   "metadata": {}
  },
  {
   "cell_type": "code",
   "execution_count": 1,
   "source": [
    "from puzzle_encoder import PuzzleEncoder\n",
    "from puzzle_solver import PuzzleSolver\n",
    "from puzzle_visualizer import PuzzleVisualizer"
   ],
   "outputs": [],
   "metadata": {}
  },
  {
   "cell_type": "code",
   "execution_count": 2,
   "source": [
    "encoder = PuzzleEncoder('A Lonely Event')"
   ],
   "outputs": [],
   "metadata": {}
  },
  {
   "cell_type": "code",
   "execution_count": 3,
   "source": [
    "room_names = [\n",
    "    'Restroom',\n",
    "    'Living Room', \n",
    "    'Kitchen',\n",
    "    'Guest Bedroom', \n",
    "    'Master Bedroom', \n",
    "    'Dining Room',\n",
    "]\n",
    "encoder.set_rooms(room_names)"
   ],
   "outputs": [],
   "metadata": {}
  },
  {
   "cell_type": "code",
   "execution_count": 4,
   "source": [
    "floor_plan = [\n",
    "    [1,1,1,2,2,2,2,2,2],\n",
    "    [1,1,1,2,2,2,2,2,2],\n",
    "    [1,1,1,2,2,2,2,2,2],\n",
    "    [3,3,3,2,2,2,2,2,2],\n",
    "    [3,3,3,4,4,4,5,5,5],\n",
    "    [3,3,3,4,4,4,5,5,5],\n",
    "    [6,6,6,4,4,4,5,5,5],\n",
    "    [6,6,6,4,4,4,5,5,5],\n",
    "    [6,6,6,4,4,4,5,5,5],\n",
    "]\n",
    "encoder.set_floor_plan(floor_plan)"
   ],
   "outputs": [],
   "metadata": {}
  },
  {
   "cell_type": "code",
   "execution_count": 5,
   "source": [
    "encoder.add_horizontal_window(0, 3)\n",
    "encoder.add_vertical_window(6, 9)"
   ],
   "outputs": [],
   "metadata": {}
  },
  {
   "cell_type": "code",
   "execution_count": 6,
   "source": [
    "encoder.add_furniture('chair', [(1, 2)])\n",
    "encoder.add_furniture('chair', [(3, 2)])\n",
    "encoder.add_furniture('chair', [(4, 5)])\n",
    "encoder.add_furniture('chair', [(5, 6)])\n",
    "encoder.add_furniture('bed', [(5, 4), (6, 4)])\n",
    "encoder.add_furniture('bed', [(5, 7), (6, 7)])\n",
    "encoder.add_furniture('plant', [(0, 0)])\n",
    "encoder.add_furniture('plant', [(0, 7)])\n",
    "encoder.add_furniture('plant', [(3, 0)])\n",
    "encoder.add_furniture('plant', [(3, 3)])\n",
    "encoder.add_furniture('plant', [(6, 0)])\n",
    "encoder.add_furniture('plant', [(7, 1)])\n",
    "encoder.add_furniture('plant', [(8, 8)])\n",
    "encoder.add_furniture('tv', [(2, 8)])\n",
    "encoder.add_furniture('table', [(2, 4), (2, 5), (2, 6)])\n",
    "encoder.add_furniture('table', [(4, 0), (4, 1), (4, 2)])\n",
    "encoder.add_furniture('table', [(6, 1)])"
   ],
   "outputs": [],
   "metadata": {}
  },
  {
   "cell_type": "code",
   "execution_count": 7,
   "source": [
    "suspects = [\n",
    "    ('Ana', 'female'),\n",
    "    ('Bradley', 'female'),\n",
    "    ('Chevy', 'male'),\n",
    "    ('Dave', 'male'),\n",
    "    ('Evan', 'male'),\n",
    "    ('Frank', 'male'),\n",
    "    ('Gizelle', 'female'),\n",
    "    ('Heather', 'female'),\n",
    "]\n",
    "encoder.set_people(suspects=suspects, victim=('Vanessa', 'female'))"
   ],
   "outputs": [],
   "metadata": {}
  },
  {
   "cell_type": "code",
   "execution_count": 8,
   "source": [
    "encoder.add_clue('Ana was alone in the restroom.')\n",
    "encoder.add_clue('Bradley was in the Living Room.')\n",
    "encoder.add_clue('Bradley was in the same row as a TV.')\n",
    "encoder.add_clue('Chevy was the only person in the house that was on a bed.')\n",
    "encoder.add_clue('Dave was alone in the Kitchen.')\n",
    "encoder.add_clue('Evan was the only person in the house sitting on a chair.')\n",
    "encoder.add_clue('Frank was beside a table.')\n",
    "encoder.add_clue('Frank was alone in the Dining Room.')\n",
    "encoder.add_clue('Gizelle was the only person in the house beside a window.')\n",
    "encoder.add_clue('Heather was in the corner of the room.')"
   ],
   "outputs": [],
   "metadata": {}
  },
  {
   "cell_type": "code",
   "execution_count": 9,
   "source": [
    "puzzle = encoder.puzzle"
   ],
   "outputs": [],
   "metadata": {}
  },
  {
   "cell_type": "code",
   "execution_count": 10,
   "source": [
    "solver = PuzzleSolver(puzzle)"
   ],
   "outputs": [],
   "metadata": {}
  },
  {
   "cell_type": "code",
   "execution_count": 11,
   "source": [
    "status, solution_count = solver.solve()\n",
    "print(f'Solution status: {status}\\nSolution count: {solution_count}')"
   ],
   "outputs": [
    {
     "output_type": "stream",
     "name": "stdout",
     "text": [
      "Solution status: OPTIMAL\n",
      "Solution count: 1\n"
     ]
    }
   ],
   "metadata": {}
  },
  {
   "cell_type": "code",
   "execution_count": 12,
   "source": [
    "visualizer = PuzzleVisualizer(puzzle)\n",
    "print(visualizer.visualization)"
   ],
   "outputs": [
    {
     "output_type": "stream",
     "name": "stdout",
     "text": [
      "    0   1   2   3   4   5   6   7   8 \n",
      "  ┌───────────┬═══────────────────────┐\n",
      "0 │\u001b[42m   \u001b[0m        │ G              \u001b[42m   \u001b[0m    │\n",
      "  │           │                       │\n",
      "1 │ A      \u001b[41m   \u001b[0m│                       │\n",
      "  │           │                       │\n",
      "2 │           │    \u001b[43m   \u001b[0m\u001b[43m \u001b[0m\u001b[43m   \u001b[0m\u001b[43m \u001b[0m\u001b[43m   \u001b[0m  B  \u001b[47m   \u001b[0m│\n",
      "  ├───────────┤                       │\n",
      "3 │\u001b[42m   \u001b[0m  D  \u001b[41m   \u001b[0m│\u001b[42m   \u001b[0m                    │\n",
      "  │           ├───────────┬───────────┤\n",
      "4 │\u001b[43m   \u001b[0m\u001b[43m \u001b[0m\u001b[43m   \u001b[0m\u001b[43m \u001b[0m\u001b[43m   \u001b[0m│        \u001b[41m E \u001b[0m│           │\n",
      "  │           │           │           │\n",
      "5 │           │    \u001b[45m C \u001b[0m    │\u001b[41m   \u001b[0m \u001b[45m   \u001b[0m    │\n",
      "  ├───────────┤    \u001b[45m   \u001b[0m    │    \u001b[45m   \u001b[0m    │\n",
      "6 │\u001b[42m   \u001b[0m \u001b[43m   \u001b[0m  F │    \u001b[45m   \u001b[0m    │    \u001b[45m   \u001b[0m    ║\n",
      "  │           │           │           │\n",
      "7 │    \u001b[42m   \u001b[0m    │           │         V │\n",
      "  │           │           │           │\n",
      "8 │           │           │ H      \u001b[42m   \u001b[0m│\n",
      "  └───────────┴───────────┴───────────┘\n",
      "   \u001b[41mChair\u001b[0m \u001b[45mBed\u001b[0m \u001b[44mCarpet\u001b[0m \u001b[42mPlant\u001b[0m \u001b[47mTv\u001b[0m \u001b[43mTable\u001b[0m\n"
     ]
    }
   ],
   "metadata": {}
  },
  {
   "cell_type": "code",
   "execution_count": 13,
   "source": [
    "print(solver.verdict())"
   ],
   "outputs": [
    {
     "output_type": "stream",
     "name": "stdout",
     "text": [
      "Heather murdered Vanessa in the Master Bedroom!\n"
     ]
    }
   ],
   "metadata": {}
  },
  {
   "cell_type": "code",
   "execution_count": 14,
   "source": [
    "with open('a_lonely_event.bin', 'wb') as f:\n",
    "    f.write(puzzle.SerializeToString())"
   ],
   "outputs": [],
   "metadata": {}
  }
 ]
}