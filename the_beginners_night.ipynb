{
 "metadata": {
  "language_info": {
   "codemirror_mode": {
    "name": "ipython",
    "version": 3
   },
   "file_extension": ".py",
   "mimetype": "text/x-python",
   "name": "python",
   "nbconvert_exporter": "python",
   "pygments_lexer": "ipython3",
   "version": "3.9.5"
  },
  "orig_nbformat": 2,
  "kernelspec": {
   "name": "python395jvsc74a57bd02065fa2bb810475cf13dbc8616d3e601fba69ec77c36bc6e78568365a297dd52",
   "display_name": "Python 3.9.5 64-bit ('frances': conda)"
  }
 },
 "nbformat": 4,
 "nbformat_minor": 2,
 "cells": [
  {
   "source": [
    "# [The Beginners Night](https://murdermysterypuzzles.com/the-beginners-night/)"
   ],
   "cell_type": "markdown",
   "metadata": {}
  },
  {
   "cell_type": "code",
   "execution_count": 1,
   "metadata": {},
   "outputs": [],
   "source": [
    "from puzzle_encoder import PuzzleEncoder\n",
    "from puzzle_solver import PuzzleSolver"
   ]
  },
  {
   "cell_type": "code",
   "execution_count": 2,
   "metadata": {},
   "outputs": [],
   "source": [
    "encoder = PuzzleEncoder('The Beginners Night')"
   ]
  },
  {
   "cell_type": "code",
   "execution_count": 3,
   "metadata": {},
   "outputs": [],
   "source": [
    "room_names = [\n",
    "    'Living Room', \n",
    "    'Master Bedroom', \n",
    "    'Guest Bedroom', \n",
    "    'Dining Room',\n",
    "]\n",
    "encoder.set_rooms(room_names)"
   ]
  },
  {
   "cell_type": "code",
   "execution_count": 4,
   "metadata": {},
   "outputs": [],
   "source": [
    "floor_plan = [\n",
    "    0,0,0,1,1,1,\n",
    "    0,0,0,1,1,1,\n",
    "    0,0,0,1,1,1,\n",
    "    2,2,2,3,3,3,\n",
    "    2,2,2,3,3,3,\n",
    "    2,2,2,3,3,3,\n",
    "]\n",
    "encoder.set_floor_plan(floor_plan)"
   ]
  },
  {
   "cell_type": "code",
   "execution_count": 5,
   "metadata": {},
   "outputs": [],
   "source": [
    "encoder.add_horizontal_window(0, 1)\n",
    "encoder.add_horizontal_window(0, 4)"
   ]
  },
  {
   "cell_type": "code",
   "execution_count": 6,
   "metadata": {},
   "outputs": [],
   "source": [
    "encoder.add_furniture('bed', [(1, 4), (2, 4)])\n",
    "encoder.add_furniture('carpet', [(1, 1), (1, 2)])\n",
    "encoder.add_furniture('plant', [(4, 2)])\n",
    "encoder.add_furniture('plant', [(4, 5)])\n",
    "encoder.add_furniture('table', [(3, 0)])\n",
    "encoder.add_furniture('table', [(3, 5)])\n",
    "encoder.add_furniture('table', [(5, 0)])"
   ]
  },
  {
   "cell_type": "code",
   "execution_count": 7,
   "metadata": {},
   "outputs": [],
   "source": [
    "suspect_names = [\n",
    "    'Axel',\n",
    "    'Bella',\n",
    "    'Cora',\n",
    "    'Douglas',\n",
    "    'Ella',\n",
    "]\n",
    "encoder.set_people(suspect_names=suspect_names, victim_name='Vincent')"
   ]
  },
  {
   "cell_type": "code",
   "execution_count": 8,
   "metadata": {},
   "outputs": [],
   "source": [
    "encoder.add_clue('There was no empty room.')\n",
    "encoder.add_clue('Axel was beside a window.')\n",
    "encoder.add_clue('Bella was in the Guest Bedroom.')\n",
    "encoder.add_clue('Cora was standing on a carpet.')\n",
    "encoder.add_clue('Douglas was the only person on a bed.')\n",
    "encoder.add_clue('Ella was beside a plant.')"
   ]
  },
  {
   "cell_type": "code",
   "execution_count": 9,
   "metadata": {},
   "outputs": [],
   "source": [
    "puzzle = encoder.puzzle"
   ]
  },
  {
   "cell_type": "code",
   "execution_count": 10,
   "metadata": {},
   "outputs": [],
   "source": [
    "solver = PuzzleSolver(puzzle)"
   ]
  },
  {
   "cell_type": "code",
   "execution_count": 11,
   "metadata": {},
   "outputs": [
    {
     "output_type": "stream",
     "name": "stdout",
     "text": [
      "Solution status: OPTIMAL\n"
     ]
    }
   ],
   "source": [
    "status = solver.solve()\n",
    "print('Solution status: {status}'.format(status=status))"
   ]
  },
  {
   "cell_type": "code",
   "execution_count": 13,
   "metadata": {},
   "outputs": [
    {
     "output_type": "stream",
     "name": "stdout",
     "text": [
      "Ella murdered Vincent in the Dining Room!\n"
     ]
    }
   ],
   "source": [
    "print(solver.verdict())"
   ]
  },
  {
   "cell_type": "code",
   "execution_count": 14,
   "metadata": {},
   "outputs": [],
   "source": [
    "with open('the_beginners_night.bin', 'wb') as f:\n",
    "    f.write(puzzle.SerializeToString())"
   ]
  }
 ]
}