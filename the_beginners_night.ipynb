{
 "metadata": {
  "language_info": {
   "codemirror_mode": {
    "name": "ipython",
    "version": 3
   },
   "file_extension": ".py",
   "mimetype": "text/x-python",
   "name": "python",
   "nbconvert_exporter": "python",
   "pygments_lexer": "ipython3",
   "version": "3.9.4"
  },
  "orig_nbformat": 2,
  "kernelspec": {
   "name": "python394jvsc74a57bd02065fa2bb810475cf13dbc8616d3e601fba69ec77c36bc6e78568365a297dd52",
   "display_name": "Python 3.9.4 64-bit ('frances': conda)"
  }
 },
 "nbformat": 4,
 "nbformat_minor": 2,
 "cells": [
  {
   "source": [
    "# [The Beginners Night](https://murdermysterypuzzles.com/the-beginners-night/)"
   ],
   "cell_type": "markdown",
   "metadata": {}
  },
  {
   "cell_type": "code",
   "execution_count": 1,
   "metadata": {},
   "outputs": [],
   "source": [
    "import puzzle_encoder\n",
    "import puzzle_solver"
   ]
  },
  {
   "cell_type": "code",
   "execution_count": 2,
   "metadata": {},
   "outputs": [],
   "source": [
    "encoder = puzzle_encoder.PuzzleEncoder('The Beginners Night')"
   ]
  },
  {
   "cell_type": "code",
   "execution_count": 3,
   "metadata": {},
   "outputs": [],
   "source": [
    "room_names = [\n",
    "    'Living Room', \n",
    "    'Master Bedroom', \n",
    "    'Guest Bedroom', \n",
    "    'Dining Room',\n",
    "]\n",
    "encoder.set_rooms(room_names)"
   ]
  },
  {
   "cell_type": "code",
   "execution_count": 4,
   "metadata": {},
   "outputs": [],
   "source": [
    "floor_plan = [\n",
    "    0,0,0,1,1,1,\n",
    "    0,0,0,1,1,1,\n",
    "    0,0,0,1,1,1,\n",
    "    2,2,2,3,3,3,\n",
    "    2,2,2,3,3,3,\n",
    "    2,2,2,3,3,3,\n",
    "]\n",
    "encoder.set_floor_plan(floor_plan)"
   ]
  },
  {
   "cell_type": "code",
   "execution_count": 5,
   "metadata": {},
   "outputs": [],
   "source": [
    "encoder.add_window(column=1, bottom=0)\n",
    "encoder.add_window(column=4, bottom=0)"
   ]
  },
  {
   "cell_type": "code",
   "execution_count": 6,
   "metadata": {},
   "outputs": [],
   "source": [
    "encoder.add_furniture('bed', [(1, 4), (2, 4)])\n",
    "encoder.add_furniture('carpet', [(1, 1), (1, 2)])\n",
    "encoder.add_furniture('plant', [(4, 2)])\n",
    "encoder.add_furniture('plant', [(4, 5)])\n",
    "encoder.add_furniture('table', [(3, 0)])\n",
    "encoder.add_furniture('table', [(3, 5)])\n",
    "encoder.add_furniture('table', [(5, 0)])"
   ]
  },
  {
   "cell_type": "code",
   "execution_count": 7,
   "metadata": {},
   "outputs": [],
   "source": [
    "suspect_names = [\n",
    "    'Axel',\n",
    "    'Bella',\n",
    "    'Cora',\n",
    "    'Douglas',\n",
    "    'Ella',\n",
    "]\n",
    "encoder.set_people(suspect_names=suspect_names, victim_name='Vincent')"
   ]
  },
  {
   "cell_type": "code",
   "execution_count": 8,
   "metadata": {},
   "outputs": [],
   "source": [
    "encoder.add_clue('There was no empty room.')\n",
    "encoder.add_clue('Axel was beside a window.')\n",
    "encoder.add_clue('Bella was in the Guest Bedroom.')\n",
    "encoder.add_clue('Cora was standing on a carpet.')\n",
    "encoder.add_clue('Douglas was the only person on a bed.')\n",
    "encoder.add_clue('Ella was beside a plant.')"
   ]
  },
  {
   "cell_type": "code",
   "execution_count": 9,
   "metadata": {},
   "outputs": [],
   "source": [
    "puzzle = encoder.get_puzzle()"
   ]
  },
  {
   "cell_type": "code",
   "execution_count": 10,
   "metadata": {},
   "outputs": [],
   "source": [
    "solver = puzzle_solver.PuzzleSolver(puzzle)"
   ]
  },
  {
   "cell_type": "code",
   "execution_count": 11,
   "metadata": {},
   "outputs": [
    {
     "output_type": "stream",
     "name": "stdout",
     "text": [
      "Solution status: OPTIMAL\n"
     ]
    }
   ],
   "source": [
    "solver.solve()"
   ]
  },
  {
   "cell_type": "code",
   "execution_count": 12,
   "metadata": {},
   "outputs": [
    {
     "output_type": "stream",
     "name": "stdout",
     "text": [
      "Ella murdered Vincent in the Dining Room!\n"
     ]
    }
   ],
   "source": [
    "solver.verdict()"
   ]
  }
 ]
}