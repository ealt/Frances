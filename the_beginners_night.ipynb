{
 "metadata": {
  "language_info": {
   "codemirror_mode": {
    "name": "ipython",
    "version": 3
   },
   "file_extension": ".py",
   "mimetype": "text/x-python",
   "name": "python",
   "nbconvert_exporter": "python",
   "pygments_lexer": "ipython3",
   "version": "3.9.5"
  },
  "orig_nbformat": 2,
  "kernelspec": {
   "name": "python3",
   "display_name": "Python 3.9.5 64-bit ('frances': conda)"
  },
  "interpreter": {
   "hash": "2065fa2bb810475cf13dbc8616d3e601fba69ec77c36bc6e78568365a297dd52"
  }
 },
 "nbformat": 4,
 "nbformat_minor": 2,
 "cells": [
  {
   "cell_type": "markdown",
   "source": [
    "# [The Beginners Night](https://murdermysterypuzzles.com/the-beginners-night/)"
   ],
   "metadata": {}
  },
  {
   "cell_type": "code",
   "execution_count": 1,
   "source": [
    "import logging\n",
    "\n",
    "logging.basicConfig(filename='the_beginners_night.log', level=logging.DEBUG)"
   ],
   "outputs": [],
   "metadata": {}
  },
  {
   "cell_type": "code",
   "execution_count": 2,
   "source": [
    "from puzzle_encoder import PuzzleEncoder\n",
    "from puzzle_solver import PuzzleSolver\n",
    "from puzzle_visualizer import PuzzleVisualizer"
   ],
   "outputs": [],
   "metadata": {}
  },
  {
   "cell_type": "code",
   "execution_count": 3,
   "source": [
    "encoder = PuzzleEncoder('The Beginners Night')"
   ],
   "outputs": [],
   "metadata": {}
  },
  {
   "cell_type": "code",
   "execution_count": 4,
   "source": [
    "room_names = [\n",
    "    'Living Room', \n",
    "    'Master Bedroom', \n",
    "    'Guest Bedroom', \n",
    "    'Dining Room',\n",
    "]\n",
    "encoder.set_rooms(room_names)"
   ],
   "outputs": [],
   "metadata": {}
  },
  {
   "cell_type": "code",
   "execution_count": 5,
   "source": [
    "floor_plan = [\n",
    "    [1,1,1,2,2,2],\n",
    "    [1,1,1,2,2,2],\n",
    "    [1,1,1,2,2,2],\n",
    "    [3,3,3,4,4,4],\n",
    "    [3,3,3,4,4,4],\n",
    "    [3,3,3,4,4,4],\n",
    "]\n",
    "encoder.set_floor_plan(floor_plan)"
   ],
   "outputs": [],
   "metadata": {}
  },
  {
   "cell_type": "code",
   "execution_count": 6,
   "source": [
    "encoder.add_horizontal_window(0, 1)\n",
    "encoder.add_horizontal_window(0, 4)"
   ],
   "outputs": [],
   "metadata": {}
  },
  {
   "cell_type": "code",
   "execution_count": 7,
   "source": [
    "encoder.add_furniture('bed', [(1, 4), (2, 4)])\n",
    "encoder.add_furniture('carpet', [(1, 1), (1, 2)])\n",
    "encoder.add_furniture('plant', [(4, 2)])\n",
    "encoder.add_furniture('plant', [(4, 5)])\n",
    "encoder.add_furniture('table', [(3, 0)])\n",
    "encoder.add_furniture('table', [(3, 5)])\n",
    "encoder.add_furniture('table', [(5, 0)])"
   ],
   "outputs": [],
   "metadata": {}
  },
  {
   "cell_type": "code",
   "execution_count": 8,
   "source": [
    "suspects = [\n",
    "    ('Axel', 'male'),\n",
    "    ('Bella', 'female'),\n",
    "    ('Cora', 'female'),\n",
    "    ('Douglas', 'male'),\n",
    "    ('Ella', 'female'),\n",
    "]\n",
    "encoder.set_people(suspects=suspects, victim=('Vincent', 'male'))"
   ],
   "outputs": [],
   "metadata": {}
  },
  {
   "cell_type": "code",
   "execution_count": 9,
   "source": [
    "encoder.add_clue('There was no empty room.')\n",
    "encoder.add_clue('Axel was beside a window.')\n",
    "encoder.add_clue('Bella was in the Guest Bedroom.')\n",
    "encoder.add_clue('Cora was standing on a carpet.')\n",
    "encoder.add_clue('Douglas was the only person on a bed.')\n",
    "encoder.add_clue('Ella was beside a plant.')"
   ],
   "outputs": [],
   "metadata": {}
  },
  {
   "cell_type": "code",
   "execution_count": 10,
   "source": [
    "puzzle = encoder.puzzle"
   ],
   "outputs": [],
   "metadata": {}
  },
  {
   "cell_type": "code",
   "execution_count": 11,
   "source": [
    "solver = PuzzleSolver(puzzle, debug=True)"
   ],
   "outputs": [],
   "metadata": {}
  },
  {
   "cell_type": "code",
   "execution_count": 12,
   "source": [
    "status, solution_count = solver.solve()\n",
    "print(f'Solution status: {status}\\nSolution count: {solution_count}')"
   ],
   "outputs": [
    {
     "output_type": "stream",
     "name": "stdout",
     "text": [
      "Solution status: OPTIMAL\n",
      "Solution count: 1\n"
     ]
    }
   ],
   "metadata": {}
  },
  {
   "cell_type": "code",
   "execution_count": 13,
   "source": [
    "visualizer = PuzzleVisualizer(puzzle)\n",
    "print(visualizer.visualization)"
   ],
   "outputs": [
    {
     "output_type": "stream",
     "name": "stdout",
     "text": [
      "    0   1   2   3   4   5 \n",
      "  ┌────═══────┬────═══────┐\n",
      "0 │     A     │           │\n",
      "  │           │           │\n",
      "1 │    \u001b[44m   \u001b[0m\u001b[44m \u001b[0m\u001b[44m C \u001b[0m│    \u001b[45m   \u001b[0m    │\n",
      "  │           │    \u001b[45m   \u001b[0m    │\n",
      "2 │           │    \u001b[45m D \u001b[0m    │\n",
      "  ├───────────┼───────────┤\n",
      "3 │\u001b[43m   \u001b[0m        │ V      \u001b[43m   \u001b[0m│\n",
      "  │           │           │\n",
      "4 │ B      \u001b[42m   \u001b[0m│        \u001b[42m   \u001b[0m│\n",
      "  │           │           │\n",
      "5 │\u001b[43m   \u001b[0m        │         E │\n",
      "  └───────────┴───────────┘\n",
      "   \u001b[41mChair\u001b[0m \u001b[45mBed\u001b[0m \u001b[44mCarpet\u001b[0m \u001b[42mPlant\u001b[0m \u001b[47mTv\u001b[0m \u001b[43mTable\u001b[0m\n"
     ]
    }
   ],
   "metadata": {}
  },
  {
   "cell_type": "code",
   "execution_count": 14,
   "source": [
    "print(solver.verdict())"
   ],
   "outputs": [
    {
     "output_type": "stream",
     "name": "stdout",
     "text": [
      "Ella murdered Vincent in the Dining Room!\n"
     ]
    }
   ],
   "metadata": {}
  },
  {
   "cell_type": "code",
   "execution_count": 15,
   "source": [
    "with open('the_beginners_night.bin', 'wb') as f:\n",
    "    f.write(puzzle.SerializeToString())"
   ],
   "outputs": [],
   "metadata": {}
  }
 ]
}